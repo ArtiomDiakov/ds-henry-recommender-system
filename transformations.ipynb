{
 "cells": [
  {
   "cell_type": "markdown",
   "metadata": {},
   "source": [
    "#Convert CSV to Parquet"
   ]
  },
  {
   "cell_type": "code",
   "execution_count": 1,
   "metadata": {},
   "outputs": [
    {
     "name": "stdout",
     "output_type": "stream",
     "text": [
      "CSV file converted to Parquet: reviews_dataset.parquet\n"
     ]
    }
   ],
   "source": [
    "import pandas as pd\n",
    "\n",
    "# Load the CSV file into a DataFrame\n",
    "csv_file = \"reviews_dataset.csv\"\n",
    "df = pd.read_csv(csv_file)\n",
    "\n",
    "# Save the DataFrame to a Parquet file\n",
    "parquet_file = \"reviews_dataset.parquet\"\n",
    "df.to_parquet(parquet_file, engine=\"pyarrow\", index=False)\n",
    "\n",
    "print(f\"CSV file converted to Parquet: {parquet_file}\")\n"
   ]
  }
 ],
 "metadata": {
  "kernelspec": {
   "display_name": "venv",
   "language": "python",
   "name": "python3"
  },
  "language_info": {
   "codemirror_mode": {
    "name": "ipython",
    "version": 3
   },
   "file_extension": ".py",
   "mimetype": "text/x-python",
   "name": "python",
   "nbconvert_exporter": "python",
   "pygments_lexer": "ipython3",
   "version": "3.10.0"
  }
 },
 "nbformat": 4,
 "nbformat_minor": 2
}

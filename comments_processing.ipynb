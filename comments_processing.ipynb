{
 "cells": [
  {
   "cell_type": "code",
   "execution_count": 1,
   "metadata": {},
   "outputs": [],
   "source": [
    "import pandas as pd\n",
    "from sklearn.feature_extraction.text import CountVectorizer, TfidfTransformer\n",
    "from sklearn.feature_extraction.text import ENGLISH_STOP_WORDS\n",
    "from textblob import TextBlob\n",
    "\n",
    "# Cargar el dataset\n",
    "df = pd.read_parquet('reviews_dataset.parquet')\n",
    "\n",
    "# Filtrar restaurantes con más de 5 reseñas y comentarios no nulos\n",
    "df_restaurants = df[df['text'].notnull() & df['business_name'].notnull()]\n",
    "restaurant_counts = df_restaurants['business_name'].value_counts()\n",
    "filtered_restaurants = restaurant_counts[restaurant_counts > 5].index\n",
    "df_restaurants = df_restaurants[df_restaurants['business_name'].isin(filtered_restaurants)]\n",
    "\n",
    "# Limpieza básica del texto\n",
    "def clean_text(text):\n",
    "    return \" \".join(word.lower() for word in text.split() if word.isalpha() and word not in ENGLISH_STOP_WORDS)\n",
    "\n",
    "df_restaurants['cleaned_text'] = df_restaurants['text'].apply(clean_text)\n",
    "\n",
    "# Función para calcular análisis de sentimiento\n",
    "def analyze_sentiment(text):\n",
    "    blob = TextBlob(text)\n",
    "    polarity = blob.sentiment.polarity  # -1 (negativo) a 1 (positivo)\n",
    "    return polarity\n",
    "\n",
    "df_restaurants['sentiment'] = df_restaurants['cleaned_text'].apply(analyze_sentiment)\n",
    "\n",
    "# Definir palabras clave para cada característica\n",
    "characteristics = {\n",
    "    \"Cleanliness\": [\"clean\", \"dirty\", \"spotless\", \"hygiene\"],\n",
    "    \"Customer Service\": [\"service\", \"staff\", \"friendly\", \"rude\"],\n",
    "    \"Food Quality\": [\"taste\", \"delicious\", \"bland\", \"flavor\"],\n",
    "    \"Presentation\": [\"presentation\", \"look\", \"beautiful\", \"messy\"],\n",
    "    \"Wait Time\": [\"wait\", \"slow\", \"quick\", \"fast\"]\n",
    "}\n",
    "\n",
    "# Función para asignar puntuaciones\n",
    "def score_characteristics(text, characteristics):\n",
    "    scores = {key: 0 for key in characteristics}\n",
    "    for key, keywords in characteristics.items():\n",
    "        for word in keywords:\n",
    "            if word in text:\n",
    "                scores[key] += 1\n",
    "    return scores\n",
    "\n",
    "df_restaurants['scores'] = df_restaurants['cleaned_text'].apply(\n",
    "    lambda x: score_characteristics(x, characteristics)\n",
    ")"
   ]
  },
  {
   "cell_type": "code",
   "execution_count": null,
   "metadata": {},
   "outputs": [],
   "source": [
    "df_restaurants"
   ]
  }
 ],
 "metadata": {
  "kernelspec": {
   "display_name": "venv",
   "language": "python",
   "name": "python3"
  },
  "language_info": {
   "codemirror_mode": {
    "name": "ipython",
    "version": 3
   },
   "file_extension": ".py",
   "mimetype": "text/x-python",
   "name": "python",
   "nbconvert_exporter": "python",
   "pygments_lexer": "ipython3",
   "version": "3.10.0"
  }
 },
 "nbformat": 4,
 "nbformat_minor": 2
}
